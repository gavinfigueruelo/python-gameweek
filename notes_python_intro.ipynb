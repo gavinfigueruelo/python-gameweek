{
 "cells": [
  {
   "cell_type": "code",
   "execution_count": null,
   "id": "satellite-giant",
   "metadata": {},
   "outputs": [],
   "source": [
    "#02/15"
   ]
  },
  {
   "cell_type": "code",
   "execution_count": 1,
   "id": "local-absence",
   "metadata": {},
   "outputs": [
    {
     "name": "stdout",
     "output_type": "stream",
     "text": [
      "hello world\n"
     ]
    }
   ],
   "source": [
    "print(\"hello world\")"
   ]
  },
  {
   "cell_type": "code",
   "execution_count": 2,
   "id": "incorporated-pittsburgh",
   "metadata": {},
   "outputs": [
    {
     "name": "stdout",
     "output_type": "stream",
     "text": [
      "8\n"
     ]
    }
   ],
   "source": [
    "print(4 + 4)"
   ]
  },
  {
   "cell_type": "code",
   "execution_count": 9,
   "id": "backed-kentucky",
   "metadata": {},
   "outputs": [
    {
     "name": "stdout",
     "output_type": "stream",
     "text": [
      "x is 1\n"
     ]
    }
   ],
   "source": [
    "x = 1\n",
    "\n",
    "if x == 1:\n",
    "    print(\"x is 1\")"
   ]
  },
  {
   "cell_type": "code",
   "execution_count": 11,
   "id": "supreme-times",
   "metadata": {},
   "outputs": [
    {
     "name": "stdout",
     "output_type": "stream",
     "text": [
      "Hey\n",
      "bye\n"
     ]
    }
   ],
   "source": [
    "#this is what a comment looks like\n",
    "\n",
    "print(\"Hey\")\n",
    "\n",
    "#another comment\n",
    "\n",
    "print(\"bye\")"
   ]
  },
  {
   "cell_type": "code",
   "execution_count": 22,
   "id": "loose-medicine",
   "metadata": {},
   "outputs": [
    {
     "name": "stdout",
     "output_type": "stream",
     "text": [
      "hello hello hello world\n"
     ]
    }
   ],
   "source": [
    "mystring = \"hello\"\n",
    "\n",
    "mystring = 'world'\n",
    "\n",
    "mystring = \"i dont want to go\"\n",
    "\n",
    "mystring = \"\\\"hey\\\", he said\"\n",
    "\n",
    "# print(r'C:\\some\\name')\n",
    "# print('C:\\some\\name')\n",
    "# print('''\\\n",
    "#     hey\n",
    "#     how is it going\n",
    "# ''')\n",
    "\n",
    "print(3 * 'hello ' + 'world')\n"
   ]
  },
  {
   "cell_type": "code",
   "execution_count": 23,
   "id": "sacred-lindsay",
   "metadata": {},
   "outputs": [
    {
     "name": "stdout",
     "output_type": "stream",
     "text": [
      "Submarine\n"
     ]
    }
   ],
   "source": [
    "prefix = 'Sub'\n",
    "\n",
    "print(prefix + 'marine')"
   ]
  },
  {
   "cell_type": "code",
   "execution_count": 24,
   "id": "least-broad",
   "metadata": {},
   "outputs": [
    {
     "name": "stdout",
     "output_type": "stream",
     "text": [
      "put several strings within paranthesis to have them joined together\n"
     ]
    }
   ],
   "source": [
    "mystring = ('put several strings within paranthesis '\n",
    "           'to have them joined together')\n",
    "\n",
    "print(mystring)"
   ]
  },
  {
   "cell_type": "code",
   "execution_count": 25,
   "id": "controlled-endorsement",
   "metadata": {},
   "outputs": [
    {
     "name": "stdout",
     "output_type": "stream",
     "text": [
      "python\n"
     ]
    }
   ],
   "source": [
    "print(\"py\" \"thon\")"
   ]
  },
  {
   "cell_type": "code",
   "execution_count": 30,
   "id": "refined-tribe",
   "metadata": {},
   "outputs": [
    {
     "data": {
      "text/plain": [
       "'suns'"
      ]
     },
     "execution_count": 30,
     "metadata": {},
     "output_type": "execute_result"
    }
   ],
   "source": [
    "word = 'sunshine'\n",
    "\n",
    "word[4]\n",
    "word[-2]\n",
    "word[0:4]"
   ]
  },
  {
   "cell_type": "code",
   "execution_count": 31,
   "id": "aggressive-gathering",
   "metadata": {},
   "outputs": [
    {
     "data": {
      "text/plain": [
       "'nivag'"
      ]
     },
     "execution_count": 31,
     "metadata": {},
     "output_type": "execute_result"
    }
   ],
   "source": [
    "# name = 'gavin'\n",
    "\n",
    "# name[::-1]"
   ]
  },
  {
   "cell_type": "code",
   "execution_count": 33,
   "id": "champion-compatibility",
   "metadata": {},
   "outputs": [
    {
     "name": "stdout",
     "output_type": "stream",
     "text": [
      "joy\n"
     ]
    }
   ],
   "source": [
    "word = 'toy'\n",
    "\n",
    "word = 'j' + word[1:]\n",
    "print(word)"
   ]
  },
  {
   "cell_type": "code",
   "execution_count": 35,
   "id": "boxed-cotton",
   "metadata": {},
   "outputs": [
    {
     "data": {
      "text/plain": [
       "26"
      ]
     },
     "execution_count": 35,
     "metadata": {},
     "output_type": "execute_result"
    }
   ],
   "source": [
    "s = 'qwertyuiopasdfghjklzxcvbnm'\n",
    "\n",
    "len(s)"
   ]
  },
  {
   "cell_type": "code",
   "execution_count": 36,
   "id": "numerous-ribbon",
   "metadata": {},
   "outputs": [],
   "source": [
    "myint = 7\n",
    "myint = int(7.5)\n",
    "\n",
    "myfloatn = 7.0\n",
    "myfloatn = float(7)\n"
   ]
  },
  {
   "cell_type": "code",
   "execution_count": 37,
   "id": "partial-terrorism",
   "metadata": {},
   "outputs": [
    {
     "data": {
      "text/plain": [
       "int"
      ]
     },
     "execution_count": 37,
     "metadata": {},
     "output_type": "execute_result"
    }
   ],
   "source": [
    "type(9)"
   ]
  },
  {
   "cell_type": "code",
   "execution_count": 38,
   "id": "polar-liverpool",
   "metadata": {},
   "outputs": [
    {
     "data": {
      "text/plain": [
       "float"
      ]
     },
     "execution_count": 38,
     "metadata": {},
     "output_type": "execute_result"
    }
   ],
   "source": [
    "type(9.0)"
   ]
  },
  {
   "cell_type": "code",
   "execution_count": 39,
   "id": "abandoned-prague",
   "metadata": {},
   "outputs": [
    {
     "data": {
      "text/plain": [
       "str"
      ]
     },
     "execution_count": 39,
     "metadata": {},
     "output_type": "execute_result"
    }
   ],
   "source": [
    "type('hi')"
   ]
  },
  {
   "cell_type": "code",
   "execution_count": 40,
   "id": "atmospheric-rehabilitation",
   "metadata": {},
   "outputs": [
    {
     "data": {
      "text/plain": [
       "4"
      ]
     },
     "execution_count": 40,
     "metadata": {},
     "output_type": "execute_result"
    }
   ],
   "source": [
    "2 + 2"
   ]
  },
  {
   "cell_type": "code",
   "execution_count": 41,
   "id": "adult-currency",
   "metadata": {},
   "outputs": [
    {
     "data": {
      "text/plain": [
       "-1"
      ]
     },
     "execution_count": 41,
     "metadata": {},
     "output_type": "execute_result"
    }
   ],
   "source": [
    "2 - 3"
   ]
  },
  {
   "cell_type": "code",
   "execution_count": 42,
   "id": "underlying-administrator",
   "metadata": {},
   "outputs": [
    {
     "data": {
      "text/plain": [
       "34"
      ]
     },
     "execution_count": 42,
     "metadata": {},
     "output_type": "execute_result"
    }
   ],
   "source": [
    "2 * 17"
   ]
  },
  {
   "cell_type": "code",
   "execution_count": 43,
   "id": "hired-blood",
   "metadata": {},
   "outputs": [
    {
     "data": {
      "text/plain": [
       "3"
      ]
     },
     "execution_count": 43,
     "metadata": {},
     "output_type": "execute_result"
    }
   ],
   "source": [
    "75 // 25"
   ]
  },
  {
   "cell_type": "code",
   "execution_count": 46,
   "id": "complimentary-hello",
   "metadata": {},
   "outputs": [
    {
     "data": {
      "text/plain": [
       "1.5"
      ]
     },
     "execution_count": 46,
     "metadata": {},
     "output_type": "execute_result"
    }
   ],
   "source": [
    "4 % 2.5"
   ]
  },
  {
   "cell_type": "code",
   "execution_count": 47,
   "id": "foster-chorus",
   "metadata": {},
   "outputs": [
    {
     "data": {
      "text/plain": [
       "8"
      ]
     },
     "execution_count": 47,
     "metadata": {},
     "output_type": "execute_result"
    }
   ],
   "source": [
    "2 **3"
   ]
  },
  {
   "cell_type": "code",
   "execution_count": 49,
   "id": "departmental-institution",
   "metadata": {},
   "outputs": [
    {
     "data": {
      "text/plain": [
       "False"
      ]
     },
     "execution_count": 49,
     "metadata": {},
     "output_type": "execute_result"
    }
   ],
   "source": [
    "# true \n",
    "True\n",
    "#false\n",
    "False"
   ]
  },
  {
   "cell_type": "code",
   "execution_count": 50,
   "id": "identified-static",
   "metadata": {},
   "outputs": [
    {
     "data": {
      "text/plain": [
       "False"
      ]
     },
     "execution_count": 50,
     "metadata": {},
     "output_type": "execute_result"
    }
   ],
   "source": [
    "100 < 0\n"
   ]
  },
  {
   "cell_type": "code",
   "execution_count": 51,
   "id": "animal-tournament",
   "metadata": {},
   "outputs": [
    {
     "data": {
      "text/plain": [
       "True"
      ]
     },
     "execution_count": 51,
     "metadata": {},
     "output_type": "execute_result"
    }
   ],
   "source": [
    "100 > 0"
   ]
  },
  {
   "cell_type": "code",
   "execution_count": 53,
   "id": "approximate-payment",
   "metadata": {},
   "outputs": [
    {
     "data": {
      "text/plain": [
       "True"
      ]
     },
     "execution_count": 53,
     "metadata": {},
     "output_type": "execute_result"
    }
   ],
   "source": [
    "4 == 4"
   ]
  },
  {
   "cell_type": "code",
   "execution_count": 54,
   "id": "upper-living",
   "metadata": {},
   "outputs": [
    {
     "data": {
      "text/plain": [
       "True"
      ]
     },
     "execution_count": 54,
     "metadata": {},
     "output_type": "execute_result"
    }
   ],
   "source": [
    "4 <= 5"
   ]
  },
  {
   "cell_type": "code",
   "execution_count": 55,
   "id": "dirty-blame",
   "metadata": {},
   "outputs": [
    {
     "data": {
      "text/plain": [
       "True"
      ]
     },
     "execution_count": 55,
     "metadata": {},
     "output_type": "execute_result"
    }
   ],
   "source": [
    "3 != 2"
   ]
  },
  {
   "cell_type": "code",
   "execution_count": 58,
   "id": "proper-toner",
   "metadata": {},
   "outputs": [
    {
     "name": "stdout",
     "output_type": "stream",
     "text": [
      "nah.im good\n"
     ]
    }
   ],
   "source": [
    "is_hungry = False\n",
    "\n",
    "if is_hungry:\n",
    "    print('give food')\n",
    "else:\n",
    "    print('nah.im good')"
   ]
  },
  {
   "cell_type": "code",
   "execution_count": 63,
   "id": "distinguished-invite",
   "metadata": {},
   "outputs": [
    {
     "name": "stdout",
     "output_type": "stream",
     "text": [
      "r\n",
      "a\n",
      "n\n",
      "g\n",
      "e\n"
     ]
    }
   ],
   "source": [
    "for i in 'range':\n",
    "    print(i)"
   ]
  },
  {
   "cell_type": "code",
   "execution_count": 64,
   "id": "informal-drive",
   "metadata": {},
   "outputs": [
    {
     "data": {
      "text/plain": [
       "4"
      ]
     },
     "execution_count": 64,
     "metadata": {},
     "output_type": "execute_result"
    }
   ],
   "source": [
    "def myfunction(x):\n",
    "    return x + 2\n",
    "myfunction(2)"
   ]
  },
  {
   "cell_type": "code",
   "execution_count": 68,
   "id": "smaller-relation",
   "metadata": {},
   "outputs": [
    {
     "data": {
      "text/plain": [
       "True"
      ]
     },
     "execution_count": 68,
     "metadata": {},
     "output_type": "execute_result"
    }
   ],
   "source": [
    "def is_even(x):\n",
    "    if x % 2 == 0:\n",
    "        return True\n",
    "    else:\n",
    "        return False\n",
    "    \n",
    "is_even(6)"
   ]
  },
  {
   "cell_type": "code",
   "execution_count": 69,
   "id": "flush-serve",
   "metadata": {},
   "outputs": [
    {
     "data": {
      "text/plain": [
       "True"
      ]
     },
     "execution_count": 69,
     "metadata": {},
     "output_type": "execute_result"
    }
   ],
   "source": [
    "None == None\n",
    "\n",
    "#None=null"
   ]
  },
  {
   "cell_type": "code",
   "execution_count": 72,
   "id": "junior-atmosphere",
   "metadata": {},
   "outputs": [
    {
     "name": "stdout",
     "output_type": "stream",
     "text": [
      "1\n",
      "2\n"
     ]
    }
   ],
   "source": [
    "j = 2\n",
    "\n",
    "def my_Func():\n",
    "    j = 1\n",
    "    print(j)\n",
    "    \n",
    "my_Func()\n",
    "\n",
    "print(j)"
   ]
  },
  {
   "cell_type": "code",
   "execution_count": null,
   "id": "earned-niagara",
   "metadata": {},
   "outputs": [],
   "source": [
    "input('guess a number')"
   ]
  },
  {
   "cell_type": "code",
   "execution_count": null,
   "id": "communist-nomination",
   "metadata": {},
   "outputs": [],
   "source": []
  },
  {
   "cell_type": "code",
   "execution_count": null,
   "id": "treated-tiger",
   "metadata": {},
   "outputs": [],
   "source": [
    "#02/16"
   ]
  },
  {
   "cell_type": "code",
   "execution_count": null,
   "id": "gross-petersburg",
   "metadata": {},
   "outputs": [],
   "source": [
    "#Lists\n",
    "\n",
    "#Lists are represented with brackets []\n",
    "\n",
    "fruits = []\n",
    "\n",
    "fruits = list()"
   ]
  },
  {
   "cell_type": "code",
   "execution_count": 1,
   "id": "novel-sudan",
   "metadata": {},
   "outputs": [
    {
     "name": "stdout",
     "output_type": "stream",
     "text": [
      "['apple', 'pear', 'banana']\n"
     ]
    }
   ],
   "source": [
    "fruits = ['apple', 'pear', 'banana']\n",
    "print(fruits)"
   ]
  },
  {
   "cell_type": "code",
   "execution_count": 2,
   "id": "written-mississippi",
   "metadata": {},
   "outputs": [
    {
     "name": "stdout",
     "output_type": "stream",
     "text": [
      "['apple', 'pear', 'banana', 'peach']\n"
     ]
    }
   ],
   "source": [
    "fruits.append('peach')\n",
    "print(fruits)"
   ]
  },
  {
   "cell_type": "code",
   "execution_count": 3,
   "id": "surprised-correlation",
   "metadata": {},
   "outputs": [
    {
     "name": "stdout",
     "output_type": "stream",
     "text": [
      "[True, 100, 1.1, 'hello']\n"
     ]
    }
   ],
   "source": [
    "random = []\n",
    "\n",
    "random.append(True)\n",
    "random.append(100)\n",
    "random.append(1.1)\n",
    "random.append('hello')\n",
    "print(random)"
   ]
  },
  {
   "cell_type": "code",
   "execution_count": 4,
   "id": "imperial-model",
   "metadata": {},
   "outputs": [
    {
     "data": {
      "text/plain": [
       "1.1"
      ]
     },
     "execution_count": 4,
     "metadata": {},
     "output_type": "execute_result"
    }
   ],
   "source": [
    "random[2]"
   ]
  },
  {
   "cell_type": "code",
   "execution_count": 5,
   "id": "recognized-intervention",
   "metadata": {},
   "outputs": [
    {
     "data": {
      "text/plain": [
       "'hello'"
      ]
     },
     "execution_count": 5,
     "metadata": {},
     "output_type": "execute_result"
    }
   ],
   "source": [
    "random[3]"
   ]
  },
  {
   "cell_type": "code",
   "execution_count": 10,
   "id": "lonely-preview",
   "metadata": {},
   "outputs": [
    {
     "name": "stdout",
     "output_type": "stream",
     "text": [
      "[True]\n"
     ]
    }
   ],
   "source": [
    "print(random)"
   ]
  },
  {
   "cell_type": "code",
   "execution_count": 11,
   "id": "nominated-symposium",
   "metadata": {},
   "outputs": [
    {
     "name": "stdout",
     "output_type": "stream",
     "text": [
      "['green', 'blue', 'purple', 'red', 'orange', 'yellow']\n"
     ]
    }
   ],
   "source": [
    "cool_colors = ['green', 'blue', 'purple']\n",
    "warm_colors = ['red', 'orange', 'yellow']\n",
    "all_colors = cool_colors + warm_colors\n",
    "print(all_colors)"
   ]
  },
  {
   "cell_type": "code",
   "execution_count": 13,
   "id": "specialized-prayer",
   "metadata": {},
   "outputs": [
    {
     "data": {
      "text/plain": [
       "True"
      ]
     },
     "execution_count": 13,
     "metadata": {},
     "output_type": "execute_result"
    }
   ],
   "source": [
    "'purple' in cool_colors"
   ]
  },
  {
   "cell_type": "code",
   "execution_count": 14,
   "id": "digital-century",
   "metadata": {},
   "outputs": [
    {
     "data": {
      "text/plain": [
       "6"
      ]
     },
     "execution_count": 14,
     "metadata": {},
     "output_type": "execute_result"
    }
   ],
   "source": [
    "len(all_colors)"
   ]
  },
  {
   "cell_type": "code",
   "execution_count": 16,
   "id": "temporal-chart",
   "metadata": {},
   "outputs": [
    {
     "name": "stdout",
     "output_type": "stream",
     "text": [
      "boo\n"
     ]
    }
   ],
   "source": [
    "guess = 'red'\n",
    "\n",
    "if guess in cool_colors:\n",
    "    print('yay')\n",
    "else:\n",
    "    print('boo')"
   ]
  },
  {
   "cell_type": "code",
   "execution_count": 19,
   "id": "legal-mouth",
   "metadata": {},
   "outputs": [
    {
     "name": "stdout",
     "output_type": "stream",
     "text": [
      "{'name': 'Gavin', 'pet': 'Milo', 'fav_color': 'green'}\n",
      "{'name': 'Gavin', 'pet': 'Milo', 'fav_color': 'army green'}\n"
     ]
    }
   ],
   "source": [
    "my_dict = {}\n",
    "\n",
    "my_dict = dict()\n",
    "\n",
    "my_dict = {'name': 'Gavin', 'pet': 'Milo'}\n",
    "\n",
    "my_dict['fav_color'] = 'green'\n",
    "\n",
    "print(my_dict)\n",
    "\n",
    "my_dict['fav_color'] = 'army green'\n",
    "\n",
    "print(my_dict)"
   ]
  },
  {
   "cell_type": "code",
   "execution_count": 21,
   "id": "artificial-corpus",
   "metadata": {},
   "outputs": [
    {
     "data": {
      "text/plain": [
       "True"
      ]
     },
     "execution_count": 21,
     "metadata": {},
     "output_type": "execute_result"
    }
   ],
   "source": [
    "'age' not in my_dict"
   ]
  },
  {
   "cell_type": "code",
   "execution_count": 24,
   "id": "color-radical",
   "metadata": {},
   "outputs": [
    {
     "data": {
      "text/plain": [
       "'army green'"
      ]
     },
     "execution_count": 24,
     "metadata": {},
     "output_type": "execute_result"
    }
   ],
   "source": [
    "my_dict['fav_color']"
   ]
  },
  {
   "cell_type": "code",
   "execution_count": 25,
   "id": "compound-topic",
   "metadata": {},
   "outputs": [
    {
     "name": "stdout",
     "output_type": "stream",
     "text": [
      "{'name': 'Gavin', 'pet': 'Milo'}\n"
     ]
    }
   ],
   "source": [
    "del my_dict['fav_color']\n",
    "\n",
    "print(my_dict)"
   ]
  },
  {
   "cell_type": "code",
   "execution_count": 26,
   "id": "detected-delay",
   "metadata": {},
   "outputs": [
    {
     "data": {
      "text/plain": [
       "'Milo'"
      ]
     },
     "execution_count": 26,
     "metadata": {},
     "output_type": "execute_result"
    }
   ],
   "source": [
    "user_request = 'pet'\n",
    "\n",
    "my_dict[user_request]"
   ]
  },
  {
   "cell_type": "code",
   "execution_count": 28,
   "id": "front-greek",
   "metadata": {},
   "outputs": [
    {
     "name": "stdout",
     "output_type": "stream",
     "text": [
      "gallahad the pure\n",
      "robin the brave\n"
     ]
    }
   ],
   "source": [
    "knights = {'gallahad': 'the pure', 'robin': 'the brave'}\n",
    "knights.items()\n",
    "\n",
    "for k, v in knights.items():\n",
    "    print(k, v)"
   ]
  },
  {
   "cell_type": "code",
   "execution_count": 31,
   "id": "operational-internship",
   "metadata": {},
   "outputs": [
    {
     "name": "stdout",
     "output_type": "stream",
     "text": [
      "[['Snoop Dog', 'Cardi B'], ['Billy Corgan', 'AC/DC'], ['Little Big Town', 'Garth Brooks']]\n"
     ]
    }
   ],
   "source": [
    "music = []\n",
    "rap = ['Snoop Dog', 'Cardi B']\n",
    "rock = ['Billy Corgan', 'AC/DC']\n",
    "country = ['Little Big Town', 'Garth Brooks']\n",
    "\n",
    "music = rap + rock + country\n",
    "# print(music)\n",
    "\n",
    "music = []\n",
    "\n",
    "# music.append(rap)\n",
    "# music.append(rock)\n",
    "# music.append(country)\n",
    "\n",
    "music = [rap, rock, country]\n",
    "print(music)"
   ]
  },
  {
   "cell_type": "code",
   "execution_count": 32,
   "id": "internal-console",
   "metadata": {},
   "outputs": [
    {
     "data": {
      "text/plain": [
       "'Cardi B'"
      ]
     },
     "execution_count": 32,
     "metadata": {},
     "output_type": "execute_result"
    }
   ],
   "source": [
    "music[0][1]"
   ]
  },
  {
   "cell_type": "code",
   "execution_count": 33,
   "id": "indian-naples",
   "metadata": {},
   "outputs": [
    {
     "name": "stdout",
     "output_type": "stream",
     "text": [
      "H\n"
     ]
    }
   ],
   "source": [
    "my_string = 'Hello, World'\n",
    "print(my_string[-12])"
   ]
  },
  {
   "cell_type": "code",
   "execution_count": 34,
   "id": "willing-snowboard",
   "metadata": {},
   "outputs": [],
   "source": [
    "my_string = 'cat' + 'in' + 'the' + 'hat'"
   ]
  },
  {
   "cell_type": "code",
   "execution_count": 35,
   "id": "subsequent-formation",
   "metadata": {},
   "outputs": [
    {
     "name": "stdout",
     "output_type": "stream",
     "text": [
      "nah nah nah nah nah nah nah nah nah nah nah nah nah nah nah nah Batman\n"
     ]
    }
   ],
   "source": [
    "my_string = 'nah ' * 16 + 'Batman'\n",
    "print(my_string)"
   ]
  },
  {
   "cell_type": "code",
   "execution_count": 39,
   "id": "spare-appraisal",
   "metadata": {},
   "outputs": [
    {
     "name": "stdout",
     "output_type": "stream",
     "text": [
      "GAVIN\n"
     ]
    }
   ],
   "source": [
    "# name = 'gavin'.upper()\n",
    "# print(name)\n"
   ]
  },
  {
   "cell_type": "code",
   "execution_count": 40,
   "id": "familiar-appendix",
   "metadata": {},
   "outputs": [
    {
     "name": "stdout",
     "output_type": "stream",
     "text": [
      "Gavin\n"
     ]
    }
   ],
   "source": [
    "# name = 'gavin'.capitalize()\n",
    "# print(name)\n"
   ]
  },
  {
   "cell_type": "code",
   "execution_count": 41,
   "id": "secret-rover",
   "metadata": {},
   "outputs": [
    {
     "name": "stdout",
     "output_type": "stream",
     "text": [
      "Chad Musick\n"
     ]
    }
   ],
   "source": [
    "# name = 'Chad {}'.format('Musick')\n",
    "# print(name)"
   ]
  },
  {
   "cell_type": "code",
   "execution_count": 42,
   "id": "future-scheme",
   "metadata": {},
   "outputs": [
    {
     "name": "stdout",
     "output_type": "stream",
     "text": [
      "Chad great is Musick today\n"
     ]
    }
   ],
   "source": [
    "sentence = 'Chad {} is {} today'.format('great','Musick')\n",
    "print(sentence)"
   ]
  },
  {
   "cell_type": "code",
   "execution_count": 46,
   "id": "contrary-venice",
   "metadata": {},
   "outputs": [
    {
     "name": "stdout",
     "output_type": "stream",
     "text": [
      "dWl\n"
     ]
    }
   ],
   "source": [
    "my_string = 'Hello, World'\n",
    "print(my_string[::-4])"
   ]
  },
  {
   "cell_type": "code",
   "execution_count": 47,
   "id": "boxed-learning",
   "metadata": {},
   "outputs": [
    {
     "name": "stdout",
     "output_type": "stream",
     "text": [
      "H\n",
      "e\n",
      "l\n",
      "l\n",
      "o\n",
      ",\n",
      " \n",
      "W\n",
      "o\n",
      "r\n",
      "l\n",
      "d\n"
     ]
    }
   ],
   "source": [
    "for i in my_string:\n",
    "    print(i)"
   ]
  },
  {
   "cell_type": "code",
   "execution_count": 51,
   "id": "higher-dealer",
   "metadata": {},
   "outputs": [
    {
     "name": "stdout",
     "output_type": "stream",
     "text": [
      "Sally\n",
      "3\n"
     ]
    }
   ],
   "source": [
    "my_dict = {'name': 'Sally', 'age': 3}\n",
    "\n",
    "for key in my_dict:\n",
    "    print(my_dict[key])"
   ]
  },
  {
   "cell_type": "code",
   "execution_count": 68,
   "id": "usual-bryan",
   "metadata": {},
   "outputs": [
    {
     "name": "stdout",
     "output_type": "stream",
     "text": [
      "['G@von', 'P@trock', 'Sarah', 'Chad', 'Patrick']\n"
     ]
    }
   ],
   "source": [
    "names = ['Gavin', 'Billy', 'Sarah', 'Chad', 'Patrick']\n",
    "#replace all a's with @\n",
    "#relace all i's with an o\n",
    "\n",
    "i = 0\n",
    "\n",
    "for name in names:\n",
    "    name = name.replace('a','@')\n",
    "    name = name.replace('i','o')\n",
    "    names[i] = name\n",
    "    i =+ 1\n",
    "    \n",
    "print(names)"
   ]
  },
  {
   "cell_type": "code",
   "execution_count": 67,
   "id": "obvious-coaching",
   "metadata": {},
   "outputs": [
    {
     "name": "stdout",
     "output_type": "stream",
     "text": [
      "['G@von', 'Bolly', 'S@r@h', 'Ch@d', 'P@trock']\n"
     ]
    }
   ],
   "source": [
    "names = ['Gavin', 'Billy', 'Sarah', 'Chad', 'Patrick']\n",
    "#replace all a's with @\n",
    "#relace all i's with an o\n",
    "\n",
    "for index, name in enumerate(names):\n",
    "    name = name.replace('a','@').replace('i','o')\n",
    "    names[index] = name\n",
    "#     i =+ 1\n",
    "    \n",
    "print(names)"
   ]
  },
  {
   "cell_type": "code",
   "execution_count": null,
   "id": "considered-definition",
   "metadata": {},
   "outputs": [],
   "source": [
    "#build a hnagman game\n",
    "#generate a random word\n",
    "#give a hardcode word at first and then go back and change the static data\n",
    "#dont need the image(hey mikey, i think he likes it)\n",
    "#only keeping track of incorrect guesses\n",
    "#"
   ]
  }
 ],
 "metadata": {
  "kernelspec": {
   "display_name": "Python 3",
   "language": "python",
   "name": "python3"
  },
  "language_info": {
   "codemirror_mode": {
    "name": "ipython",
    "version": 3
   },
   "file_extension": ".py",
   "mimetype": "text/x-python",
   "name": "python",
   "nbconvert_exporter": "python",
   "pygments_lexer": "ipython3",
   "version": "3.8.7"
  }
 },
 "nbformat": 4,
 "nbformat_minor": 5
}
