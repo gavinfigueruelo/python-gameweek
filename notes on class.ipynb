{
 "cells": [
  {
   "cell_type": "code",
   "execution_count": 15,
   "id": "assured-lloyd",
   "metadata": {},
   "outputs": [
    {
     "name": "stdout",
     "output_type": "stream",
     "text": [
      "1\n",
      "Milo's funk level is 9.\n",
      "9\n"
     ]
    }
   ],
   "source": [
    "class Animal:\n",
    "    def __init__(self, name, size, number_of_eyes):\n",
    "        self.name = name\n",
    "        self.size = size\n",
    "        self.number_of_eyes = number_of_eyes\n",
    "        self.stink = 1\n",
    "    \n",
    "    def __str__(self):\n",
    "         return self.name #[:2]\n",
    "        \n",
    "    def funk(self, days, sensitivity):\n",
    "        self.stink = (days + self.stink) * sensitivity\n",
    "        print(f'''{self.name}'s funk level is {self.stink}.''')\n",
    "        \n",
    "milo = Animal('Milo', 'about that size', 2)\n",
    "print(milo.stink)\n",
    "    \n",
    "milo.funk(2, 3)\n",
    "print(milo.stink)\n",
    "# animal = Animal('Milo', 'about that size' 2)\n",
    "# print(animal)"
   ]
  },
  {
   "cell_type": "code",
   "execution_count": 28,
   "id": "protected-commander",
   "metadata": {},
   "outputs": [
    {
     "name": "stdout",
     "output_type": "stream",
     "text": [
      "False\n",
      "True\n",
      "['cha cha', 'cry baby']\n"
     ]
    }
   ],
   "source": [
    "class Dog:\n",
    "    \n",
    "    names = []\n",
    "    \n",
    "    kind = 'canine'\n",
    "    \n",
    "    def __init__(self, name, color, size):\n",
    "        self.name = name\n",
    "        self.color = color\n",
    "        self.size = size\n",
    "        self.nicknames = []\n",
    "        self.has_a_tail = True\n",
    "        \n",
    "    def __str__(self):\n",
    "        return self.name\n",
    "    \n",
    "    def add_nickname(self, nickname):\n",
    "        self.nicknames.append(nickname)\n",
    "    \n",
    "\n",
    "charlie = Dog('charlie', 'brown', 'a lil chubs')\n",
    "charlie.add_nickname('cha cha')\n",
    "charlie.add_nickname('cry baby')\n",
    "# lady = Dog('lady', 'brown', 'large')\n",
    "\n",
    "milo = Dog('milo', 'black and white', 'pretty big')\n",
    "\n",
    "charlie.has_a_tail = False\n",
    "print(charlie.has_a_tail)\n",
    "print(milo.has_a_tail)\n",
    "print(charlie.nicknames)\n",
    "\n"
   ]
  },
  {
   "cell_type": "code",
   "execution_count": 39,
   "id": "outstanding-dating",
   "metadata": {},
   "outputs": [],
   "source": [
    "class Animal:\n",
    "    def __init__(self, name, color):\n",
    "        self.name = name\n",
    "        self.color = color\n",
    "\n",
    "class Dog(Animal):\n",
    "    def __init__(self, name, color, size):\n",
    "        super().__init__(name, color)\n",
    "        self.size = size\n",
    "        self.temprament = 'laid back'\n",
    "\n",
    "class Poodle(Dog):\n",
    "    def __init__(self, name, color, size, breed):\n",
    "        super().__init__(name, color, size)\n",
    "        self.breed = breed\n",
    "        self.temprament = 'kinda sassy'\n",
    "        \n",
    "class PitBullMix(Dog):\n",
    "    def __init__(self, name, color, size, breed):\n",
    "        super().__init__(name, color, size)\n",
    "        self.breed = breed\n",
    "        \n",
    "Milo = PitBullMix('milo', 'black and white', 'pretty big', 'pitbullmix')\n",
    "priss = Poodle('priss', 'gray', 'miniature', 'poodle')\n",
    "            "
   ]
  },
  {
   "cell_type": "code",
   "execution_count": 41,
   "id": "obvious-accreditation",
   "metadata": {},
   "outputs": [
    {
     "name": "stdout",
     "output_type": "stream",
     "text": [
      "wooof\n"
     ]
    }
   ],
   "source": [
    "class Animal:\n",
    "    def __init__(self, name, color):\n",
    "        self.name = name\n",
    "        self.color = color\n",
    "        \n",
    "    def speak(self):\n",
    "        print('i am an aniaml')\n",
    "\n",
    "class Dog(Animal):\n",
    "    def __init__(self, name, color, size):\n",
    "        super().__init__(name, color)\n",
    "        self.size = size\n",
    "        self.temprament = 'laid back'\n",
    "        \n",
    "    def speak(self):\n",
    "        print('wooof')\n",
    "        \n",
    "charlie = Dog('cha cha', 'brown', 'a lil chubs')\n",
    "charlie.speak()"
   ]
  },
  {
   "cell_type": "code",
   "execution_count": 43,
   "id": "found-lottery",
   "metadata": {},
   "outputs": [
    {
     "name": "stdout",
     "output_type": "stream",
     "text": [
      "Ahhhhhhhhhhh. scared of cats! don't tell anyone!\n"
     ]
    }
   ],
   "source": [
    "class Dog():\n",
    "    def __init__(self, name, color):\n",
    "        self.name = name\n",
    "        self.color = color\n",
    "        \n",
    "    def __str__(self):\n",
    "        return self.name\n",
    "    \n",
    "    def speak(self):\n",
    "        print('Woof Woof!')\n",
    "        \n",
    "    def be_scared_of(self):\n",
    "        print('''Ahhhhhhhhhhh. scared of cats! don't tell anyone!''')\n",
    "        \n",
    "milo = Dog('baby', 'white with black spot')\n",
    "\n",
    "milo."
   ]
  },
  {
   "cell_type": "code",
   "execution_count": 54,
   "id": "extreme-denial",
   "metadata": {},
   "outputs": [
    {
     "name": "stdout",
     "output_type": "stream",
     "text": [
      "nice UNCOMMON name\n",
      "['cookie', 'charlie', 'finny', 'baby']\n"
     ]
    }
   ],
   "source": [
    "class Dog():\n",
    "    \n",
    "    __names = ['cookie', 'charlie', 'finny']\n",
    "    \n",
    "    def __init__(self, name, color):\n",
    "        self.name = name\n",
    "        self.color = color\n",
    "        \n",
    "        self.__names.append(name)\n",
    "        \n",
    "    def __str__(self):\n",
    "        return self.name\n",
    "    \n",
    "    def speak(self):\n",
    "        print('Woof Woof!')\n",
    "        \n",
    "    def common_name(self):\n",
    "        count = self.__names.count(self.name)\n",
    "        if count > 10:\n",
    "            print('that\\'s a common name!')\n",
    "        else:\n",
    "            print('nice UNCOMMON name')\n",
    "            print(self.__names)\n",
    "        \n",
    "milo = Dog('baby', 'white with black spot')\n",
    "milo.common_name()"
   ]
  },
  {
   "cell_type": "code",
   "execution_count": null,
   "id": "grand-trinidad",
   "metadata": {},
   "outputs": [],
   "source": []
  },
  {
   "cell_type": "code",
   "execution_count": null,
   "id": "unnecessary-insulation",
   "metadata": {},
   "outputs": [],
   "source": []
  },
  {
   "cell_type": "code",
   "execution_count": null,
   "id": "personalized-bangladesh",
   "metadata": {},
   "outputs": [],
   "source": []
  }
 ],
 "metadata": {
  "kernelspec": {
   "display_name": "Python 3",
   "language": "python",
   "name": "python3"
  },
  "language_info": {
   "codemirror_mode": {
    "name": "ipython",
    "version": 3
   },
   "file_extension": ".py",
   "mimetype": "text/x-python",
   "name": "python",
   "nbconvert_exporter": "python",
   "pygments_lexer": "ipython3",
   "version": "3.8.7"
  }
 },
 "nbformat": 4,
 "nbformat_minor": 5
}
