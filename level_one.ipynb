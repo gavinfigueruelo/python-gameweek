{
 "cells": [
  {
   "cell_type": "code",
   "execution_count": 1,
   "id": "satisfied-mobile",
   "metadata": {},
   "outputs": [
    {
     "name": "stdout",
     "output_type": "stream",
     "text": [
      "11\n"
     ]
    }
   ],
   "source": [
    "print(4 + 7)"
   ]
  },
  {
   "cell_type": "code",
   "execution_count": 3,
   "id": "brave-cement",
   "metadata": {},
   "outputs": [
    {
     "name": "stdout",
     "output_type": "stream",
     "text": [
      "6\n"
     ]
    }
   ],
   "source": [
    "import random\n",
    "random_number = random.randint(1,10)\n",
    "print(random_number)"
   ]
  },
  {
   "cell_type": "code",
   "execution_count": 4,
   "id": "boxed-management",
   "metadata": {},
   "outputs": [
    {
     "name": "stdout",
     "output_type": "stream",
     "text": [
      "5\n"
     ]
    }
   ],
   "source": [
    "import random\n",
    "random_number = random.randint(1,10)\n",
    "print(random_number)"
   ]
  },
  {
   "cell_type": "code",
   "execution_count": null,
   "id": "burning-secretariat",
   "metadata": {},
   "outputs": [],
   "source": [
    "import random\n",
    "random_number = random.randint(1,10)\n",
    "win = False\n",
    "plays = 0\n",
    "\n",
    "while win == False:\n",
    "    # print('Enter a number between 1 - 10')\n",
    "    user_guess = input('Enter a number between 1 - 10: ')\n",
    "    plays +=1\n",
    "    \n",
    "    if random_number == int(user_guess):\n",
    "        print('You win')\n",
    "        win == True\n",
    "        break\n",
    "    elif plays == 3:\n",
    "        print('You ran out of turns, the number was', random_number)\n",
    "        break\n",
    "    else :\n",
    "        if int(user_guess) < random_number:\n",
    "            print('Your guess is too low try higher')\n",
    "        else:\n",
    "            print('Your guess is too high try lower')"
   ]
  },
  {
   "cell_type": "markdown",
   "id": "apart-husband",
   "metadata": {},
   "source": [
    " "
   ]
  },
  {
   "cell_type": "code",
   "execution_count": null,
   "id": "sustainable-assurance",
   "metadata": {},
   "outputs": [],
   "source": []
  }
 ],
 "metadata": {
  "kernelspec": {
   "display_name": "Python 3",
   "language": "python",
   "name": "python3"
  },
  "language_info": {
   "codemirror_mode": {
    "name": "ipython",
    "version": 3
   },
   "file_extension": ".py",
   "mimetype": "text/x-python",
   "name": "python",
   "nbconvert_exporter": "python",
   "pygments_lexer": "ipython3",
   "version": "3.8.7"
  }
 },
 "nbformat": 4,
 "nbformat_minor": 5
}
