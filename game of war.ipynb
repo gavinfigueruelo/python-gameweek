{
 "cells": [
  {
   "cell_type": "code",
   "execution_count": 1,
   "id": "tender-storage",
   "metadata": {},
   "outputs": [],
   "source": [
    "#classes = game, player, deck, card\n",
    "#game is going to have most of the logic\n"
   ]
  },
  {
   "cell_type": "code",
   "execution_count": null,
   "id": "joint-wisconsin",
   "metadata": {},
   "outputs": [],
   "source": [
    "#second time through, mady way"
   ]
  },
  {
   "cell_type": "code",
   "execution_count": null,
   "id": "exterior-system",
   "metadata": {},
   "outputs": [],
   "source": []
  },
  {
   "cell_type": "code",
   "execution_count": 2,
   "id": "monthly-comedy",
   "metadata": {},
   "outputs": [
    {
     "ename": "IndentationError",
     "evalue": "unindent does not match any outer indentation level (<tokenize>, line 17)",
     "output_type": "error",
     "traceback": [
      "\u001b[0;36m  File \u001b[0;32m\"<tokenize>\"\u001b[0;36m, line \u001b[0;32m17\u001b[0m\n\u001b[0;31m    def __init__(self, vaule, suit):\u001b[0m\n\u001b[0m    ^\u001b[0m\n\u001b[0;31mIndentationError\u001b[0m\u001b[0;31m:\u001b[0m unindent does not match any outer indentation level\n"
     ]
    }
   ],
   "source": [
    "from random import shuffle\n",
    "\n",
    "class Card:\n",
    "     __suits = [\n",
    "         'spades',\n",
    "         'diamonds',\n",
    "         'hearts',\n",
    "         'clubs',\n",
    "    ]\n",
    "        \n",
    "     __values = {None, None, '2', '3', \n",
    "                    '4', '5', '6','7', \n",
    "                    '8', '9','10', \n",
    "                    'Jack', 'Queen', \n",
    "                    'King', 'Ace'}\n",
    "        \n",
    "    def __init__(self, vaule, suit):\n",
    "        self.vaule = vaule\n",
    "        self.suit = suit\n",
    "\n",
    "    def __repr__(self):\n",
    "        card = self.__values[self.vaule] + \" of \" + self.__suits[self.suit]\n",
    "        return card\n",
    "        \n",
    "class Deck:\n",
    "    def __init__(self):\n",
    "        self.cards = []\n",
    "        for i in range(2, 15):\n",
    "            for j in range(4):\n",
    "                self.cards.append(card(i, j))\n",
    "        shuffle(self.cards)\n",
    "    \n",
    "class Player:\n",
    "    def __init__(self, name):\n",
    "        self.wins = 0\n",
    "        self.hand = []\n",
    "        self.name = name\n",
    "        \n",
    "class Game:\n",
    "    def __init__(self):\n",
    "        self.player1 = player(input('Enter player one Name'))\n",
    "        self.player2 = player(input('Enter player two Name'))\n",
    "        self.deck = Deck()\n",
    "        self.current_hand = []\n",
    "        \n",
    "    def deal(self):\n",
    "        self.player1.hand = self.deck.cards[::2]\n",
    "        self.player2.hand = self.deck.cards[1::2]\n",
    "        \n",
    "    def draw(self):\n",
    "        player1_card = self.player1.hand.pop(0)\n",
    "        player2_card = self.player2.hand.pop(0)\n",
    "        \n",
    "        self.current_hand = [player1_card, player2_card] + self.current_hand\n",
    "        print(f\"{self.player1.name} drew {player1_card}. {self.player2.name} drew {player2_card}\")\n",
    "        \n",
    "        self.compare_cards\n",
    "        \n",
    "    def compare_cards(self):\n",
    "        if self.current_hand[0].vaule > self.current_hand[1].value:\n",
    "            self/player1.hand = self.player1.hand +self.current_hand\n",
    "            self.current_hand = []\n",
    "        elif self.current_hand[0].value < self.current_hand[1].vaule:\n",
    "            self.player2.hand = self.player2.hand + self.current_hand\n",
    "            self.current_hand = []\n",
    "        elif self.current_hand[0].vaule == self.current_hand[1].value:\n",
    "            print('war')\n",
    "            \n",
    "            if len(self.player1.hand) < 4:\n",
    "                self.player2.hand = self \n",
    "    \n",
    "        \n",
    "    def play(self):\n",
    "        print(\"Let\\'s Play!\")\n",
    "        self.deal()\n",
    "        \n",
    "        while len(self.player1.hand) > 0 and len(self.player2.hand) > 0:\n",
    "            response = input(\"Press q to quit. Press any key to play:\")\n",
    "            \n",
    "            if response == 'q':\n",
    "                print('Goodbye')\n",
    "                break\n",
    "                \n",
    "            self.draw()\n",
    "            \n",
    "            if len(self.player1.hand) == 0:\n",
    "                print(self.player2.name + 'wins!' + self.player1.name + 'ran out of cards!')\n",
    "            ` break\n",
    "            elif len(self.player2.hand) == 0:\n",
    "                print(self.player1.name + 'wins!' + self.player2.name + 'ran out of cards!')\n",
    "      \n",
    "        \n",
    "        \n",
    "        \n"
   ]
  },
  {
   "cell_type": "code",
   "execution_count": null,
   "id": "broke-emergency",
   "metadata": {},
   "outputs": [],
   "source": []
  }
 ],
 "metadata": {
  "kernelspec": {
   "display_name": "Python 3",
   "language": "python",
   "name": "python3"
  },
  "language_info": {
   "codemirror_mode": {
    "name": "ipython",
    "version": 3
   },
   "file_extension": ".py",
   "mimetype": "text/x-python",
   "name": "python",
   "nbconvert_exporter": "python",
   "pygments_lexer": "ipython3",
   "version": "3.8.7"
  }
 },
 "nbformat": 4,
 "nbformat_minor": 5
}
