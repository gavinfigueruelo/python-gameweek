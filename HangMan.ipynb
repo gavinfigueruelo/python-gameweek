{
 "cells": [
  {
   "cell_type": "code",
   "execution_count": null,
   "id": "processed-calculation",
   "metadata": {},
   "outputs": [],
   "source": [
    "import random\n",
    "\n",
    "with open ('/usr/share/dict/words') as infile:\n",
    "    infile = infile.read().split()\n",
    "    word = random.choice(infile).lower()\n",
    "\n",
    "guessed_letters = []\n",
    "wrong_guesses = []\n",
    "attempts = 6\n",
    "print('let\\'s play HangMan! \\n')\n",
    "\n",
    "while attempts > 0:\n",
    "    full_word = ''\n",
    "    for letter in word:\n",
    "        if letter in guessed_letters:\n",
    "            full_word = full_word + letter\n",
    "        else:\n",
    "            full_word = full_word + '_ '\n",
    "    if full_word == word:\n",
    "        print('You guessed the word!', word)\n",
    "        break\n",
    "    guess = input('Enter a letter: ').lower()\n",
    "\n",
    "    print(full_word)\n",
    "\n",
    "    if guess in guessed_letters or guess in wrong_guesses: \n",
    "        print('You already guessed that letter: ', guess)\n",
    "\n",
    "    if guess in word:\n",
    "        guessed_letters.append(guess)\n",
    "    elif not guess in word:\n",
    "        wrong_guesses.append(guess)\n",
    "        attempts -= 1\n",
    "        print('You have', attempts, 'attempts left')\n",
    "    if attempts == 0:\n",
    "        print('You ran out of attempts! The word was:', word)\n",
    "        break\n",
    "    if len(guess) > 1: \n",
    "        print('Enter only 1 letter')\n",
    "    elif not guess.isalpha(): \n",
    "        print('Enter a letter only')"
   ]
  },
  {
   "cell_type": "code",
   "execution_count": null,
   "id": "frank-criticism",
   "metadata": {},
   "outputs": [],
   "source": []
  }
 ],
 "metadata": {
  "kernelspec": {
   "display_name": "Python 3",
   "language": "python",
   "name": "python3"
  },
  "language_info": {
   "codemirror_mode": {
    "name": "ipython",
    "version": 3
   },
   "file_extension": ".py",
   "mimetype": "text/x-python",
   "name": "python",
   "nbconvert_exporter": "python",
   "pygments_lexer": "ipython3",
   "version": "3.8.7"
  }
 },
 "nbformat": 4,
 "nbformat_minor": 5
}
