{
 "cells": [
  {
   "cell_type": "code",
   "execution_count": 23,
   "id": "processed-calculation",
   "metadata": {},
   "outputs": [
    {
     "ename": "SyntaxError",
     "evalue": "invalid syntax (<ipython-input-23-4df10433b205>, line 26)",
     "output_type": "error",
     "traceback": [
      "\u001b[0;36m  File \u001b[0;32m\"<ipython-input-23-4df10433b205>\"\u001b[0;36m, line \u001b[0;32m26\u001b[0m\n\u001b[0;31m    else if guess in word:\u001b[0m\n\u001b[0m         ^\u001b[0m\n\u001b[0;31mSyntaxError\u001b[0m\u001b[0;31m:\u001b[0m invalid syntax\n"
     ]
    }
   ],
   "source": [
    "import random\n",
    "\n",
    "def hangman():\n",
    "\n",
    "    with open('/usr/share/dict/words') as file:\n",
    "        words = file.readlines()\n",
    "        word = random.choice(words).strip().lower()\n",
    "        print('the word is ' + word)\n",
    "\n",
    "    guessed_letters = []\n",
    "    attempts = 6\n",
    "    \n",
    "    print('Let\\'s play HangMan! \\n')\n",
    "    \n",
    "    guessed_word = '_' * len(word)\n",
    "\n",
    "    while attempts > 0:\n",
    "        print(' '.join(list(guessed_word)))\n",
    "        guess = input('Enter a letter: ').lower()\n",
    "        guessed_letters.append(guess)\n",
    "        \n",
    "        \n",
    "        if guess in guessed_letters:\n",
    "            print('You already guessed that letter! Try again!')\n",
    "        \n",
    "        elif guess in word:\n",
    "            for index, char in enumerate(word):\n",
    "                if char == guess:\n",
    "                    guessed_word = guessed_word[:index] + guess + guessed_word[index + 1:]\n",
    "#                     this loop runs through the word and when it hits a letter \n",
    "#                     that is in the word, it stops and replaces the letter in \n",
    "#                     the word with your guessed char, then moves up one index \n",
    "#                     and continues on until it either ends or doesnt find another\n",
    "#                     index of the guessed letter\n",
    "                    \n",
    "                    \n",
    "            if '_' not in guessed_word:\n",
    "                print('Congratulations! You guessed the word!')\n",
    "                print(' '.join(list(guessed_word)))\n",
    "                return\n",
    "        else:\n",
    "            attempts = attempts - 1\n",
    "            if attempts == 0:\n",
    "                print('You lose! You ran out of guesses!')\n",
    "                \n",
    "        print('Guessed Letters: ' + ' '.join(guessed_letters))\n",
    "            \n",
    "        \n",
    "            \n",
    "    \n",
    "hangman()    \n"
   ]
  },
  {
   "cell_type": "code",
   "execution_count": 21,
   "id": "experienced-jacket",
   "metadata": {},
   "outputs": [
    {
     "name": "stdout",
     "output_type": "stream",
     "text": [
      "hey\n"
     ]
    }
   ],
   "source": [
    "letters = ['l', 'a']\n",
    "if 'l' in letters:\n",
    "    print('hey')"
   ]
  },
  {
   "cell_type": "code",
   "execution_count": null,
   "id": "acute-helicopter",
   "metadata": {},
   "outputs": [],
   "source": []
  }
 ],
 "metadata": {
  "kernelspec": {
   "display_name": "Python 3",
   "language": "python",
   "name": "python3"
  },
  "language_info": {
   "codemirror_mode": {
    "name": "ipython",
    "version": 3
   },
   "file_extension": ".py",
   "mimetype": "text/x-python",
   "name": "python",
   "nbconvert_exporter": "python",
   "pygments_lexer": "ipython3",
   "version": "3.8.7"
  }
 },
 "nbformat": 4,
 "nbformat_minor": 5
}
