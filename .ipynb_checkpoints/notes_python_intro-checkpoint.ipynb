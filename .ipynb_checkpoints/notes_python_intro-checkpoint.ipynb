{
 "cells": [
  {
   "cell_type": "code",
   "execution_count": null,
   "id": "satellite-giant",
   "metadata": {},
   "outputs": [],
   "source": [
    "#02/15"
   ]
  },
  {
   "cell_type": "code",
   "execution_count": 1,
   "id": "local-absence",
   "metadata": {},
   "outputs": [
    {
     "name": "stdout",
     "output_type": "stream",
     "text": [
      "hello world\n"
     ]
    }
   ],
   "source": [
    "print(\"hello world\")"
   ]
  },
  {
   "cell_type": "code",
   "execution_count": 2,
   "id": "incorporated-pittsburgh",
   "metadata": {},
   "outputs": [
    {
     "name": "stdout",
     "output_type": "stream",
     "text": [
      "8\n"
     ]
    }
   ],
   "source": [
    "print(4 + 4)"
   ]
  },
  {
   "cell_type": "code",
   "execution_count": 9,
   "id": "backed-kentucky",
   "metadata": {},
   "outputs": [
    {
     "name": "stdout",
     "output_type": "stream",
     "text": [
      "x is 1\n"
     ]
    }
   ],
   "source": [
    "x = 1\n",
    "\n",
    "if x == 1:\n",
    "    print(\"x is 1\")"
   ]
  },
  {
   "cell_type": "code",
   "execution_count": 11,
   "id": "supreme-times",
   "metadata": {},
   "outputs": [
    {
     "name": "stdout",
     "output_type": "stream",
     "text": [
      "Hey\n",
      "bye\n"
     ]
    }
   ],
   "source": [
    "#this is what a comment looks like\n",
    "\n",
    "print(\"Hey\")\n",
    "\n",
    "#another comment\n",
    "\n",
    "print(\"bye\")"
   ]
  },
  {
   "cell_type": "code",
   "execution_count": 22,
   "id": "loose-medicine",
   "metadata": {},
   "outputs": [
    {
     "name": "stdout",
     "output_type": "stream",
     "text": [
      "hello hello hello world\n"
     ]
    }
   ],
   "source": [
    "mystring = \"hello\"\n",
    "\n",
    "mystring = 'world'\n",
    "\n",
    "mystring = \"i dont want to go\"\n",
    "\n",
    "mystring = \"\\\"hey\\\", he said\"\n",
    "\n",
    "# print(r'C:\\some\\name')\n",
    "# print('C:\\some\\name')\n",
    "# print('''\\\n",
    "#     hey\n",
    "#     how is it going\n",
    "# ''')\n",
    "\n",
    "print(3 * 'hello ' + 'world')\n"
   ]
  },
  {
   "cell_type": "code",
   "execution_count": 23,
   "id": "sacred-lindsay",
   "metadata": {},
   "outputs": [
    {
     "name": "stdout",
     "output_type": "stream",
     "text": [
      "Submarine\n"
     ]
    }
   ],
   "source": [
    "prefix = 'Sub'\n",
    "\n",
    "print(prefix + 'marine')"
   ]
  },
  {
   "cell_type": "code",
   "execution_count": 24,
   "id": "least-broad",
   "metadata": {},
   "outputs": [
    {
     "name": "stdout",
     "output_type": "stream",
     "text": [
      "put several strings within paranthesis to have them joined together\n"
     ]
    }
   ],
   "source": [
    "mystring = ('put several strings within paranthesis '\n",
    "           'to have them joined together')\n",
    "\n",
    "print(mystring)"
   ]
  },
  {
   "cell_type": "code",
   "execution_count": 25,
   "id": "controlled-endorsement",
   "metadata": {},
   "outputs": [
    {
     "name": "stdout",
     "output_type": "stream",
     "text": [
      "python\n"
     ]
    }
   ],
   "source": [
    "print(\"py\" \"thon\")"
   ]
  },
  {
   "cell_type": "code",
   "execution_count": 30,
   "id": "refined-tribe",
   "metadata": {},
   "outputs": [
    {
     "data": {
      "text/plain": [
       "'suns'"
      ]
     },
     "execution_count": 30,
     "metadata": {},
     "output_type": "execute_result"
    }
   ],
   "source": [
    "word = 'sunshine'\n",
    "\n",
    "word[4]\n",
    "word[-2]\n",
    "word[0:4]"
   ]
  },
  {
   "cell_type": "code",
   "execution_count": 31,
   "id": "aggressive-gathering",
   "metadata": {},
   "outputs": [
    {
     "data": {
      "text/plain": [
       "'nivag'"
      ]
     },
     "execution_count": 31,
     "metadata": {},
     "output_type": "execute_result"
    }
   ],
   "source": [
    "name = 'gavin'\n",
    "\n",
    "name[::-1]"
   ]
  },
  {
   "cell_type": "code",
   "execution_count": 33,
   "id": "champion-compatibility",
   "metadata": {},
   "outputs": [
    {
     "name": "stdout",
     "output_type": "stream",
     "text": [
      "joy\n"
     ]
    }
   ],
   "source": [
    "word = 'toy'\n",
    "\n",
    "word = 'j' + word[1:]\n",
    "print(word)"
   ]
  },
  {
   "cell_type": "code",
   "execution_count": 35,
   "id": "boxed-cotton",
   "metadata": {},
   "outputs": [
    {
     "data": {
      "text/plain": [
       "26"
      ]
     },
     "execution_count": 35,
     "metadata": {},
     "output_type": "execute_result"
    }
   ],
   "source": [
    "s = 'qwertyuiopasdfghjklzxcvbnm'\n",
    "\n",
    "len(s)"
   ]
  },
  {
   "cell_type": "code",
   "execution_count": 36,
   "id": "numerous-ribbon",
   "metadata": {},
   "outputs": [],
   "source": [
    "myint = 7\n",
    "myint = int(7.5)\n",
    "\n",
    "myfloatn = 7.0\n",
    "myfloatn = float(7)\n"
   ]
  },
  {
   "cell_type": "code",
   "execution_count": 37,
   "id": "partial-terrorism",
   "metadata": {},
   "outputs": [
    {
     "data": {
      "text/plain": [
       "int"
      ]
     },
     "execution_count": 37,
     "metadata": {},
     "output_type": "execute_result"
    }
   ],
   "source": [
    "type(9)"
   ]
  },
  {
   "cell_type": "code",
   "execution_count": 38,
   "id": "polar-liverpool",
   "metadata": {},
   "outputs": [
    {
     "data": {
      "text/plain": [
       "float"
      ]
     },
     "execution_count": 38,
     "metadata": {},
     "output_type": "execute_result"
    }
   ],
   "source": [
    "type(9.0)"
   ]
  },
  {
   "cell_type": "code",
   "execution_count": 39,
   "id": "abandoned-prague",
   "metadata": {},
   "outputs": [
    {
     "data": {
      "text/plain": [
       "str"
      ]
     },
     "execution_count": 39,
     "metadata": {},
     "output_type": "execute_result"
    }
   ],
   "source": [
    "type('hi')"
   ]
  },
  {
   "cell_type": "code",
   "execution_count": 40,
   "id": "atmospheric-rehabilitation",
   "metadata": {},
   "outputs": [
    {
     "data": {
      "text/plain": [
       "4"
      ]
     },
     "execution_count": 40,
     "metadata": {},
     "output_type": "execute_result"
    }
   ],
   "source": [
    "2 + 2"
   ]
  },
  {
   "cell_type": "code",
   "execution_count": 41,
   "id": "adult-currency",
   "metadata": {},
   "outputs": [
    {
     "data": {
      "text/plain": [
       "-1"
      ]
     },
     "execution_count": 41,
     "metadata": {},
     "output_type": "execute_result"
    }
   ],
   "source": [
    "2 - 3"
   ]
  },
  {
   "cell_type": "code",
   "execution_count": 42,
   "id": "underlying-administrator",
   "metadata": {},
   "outputs": [
    {
     "data": {
      "text/plain": [
       "34"
      ]
     },
     "execution_count": 42,
     "metadata": {},
     "output_type": "execute_result"
    }
   ],
   "source": [
    "2 * 17"
   ]
  },
  {
   "cell_type": "code",
   "execution_count": 43,
   "id": "hired-blood",
   "metadata": {},
   "outputs": [
    {
     "data": {
      "text/plain": [
       "3"
      ]
     },
     "execution_count": 43,
     "metadata": {},
     "output_type": "execute_result"
    }
   ],
   "source": [
    "75 // 25"
   ]
  },
  {
   "cell_type": "code",
   "execution_count": 46,
   "id": "complimentary-hello",
   "metadata": {},
   "outputs": [
    {
     "data": {
      "text/plain": [
       "1.5"
      ]
     },
     "execution_count": 46,
     "metadata": {},
     "output_type": "execute_result"
    }
   ],
   "source": [
    "4 % 2.5"
   ]
  },
  {
   "cell_type": "code",
   "execution_count": 47,
   "id": "foster-chorus",
   "metadata": {},
   "outputs": [
    {
     "data": {
      "text/plain": [
       "8"
      ]
     },
     "execution_count": 47,
     "metadata": {},
     "output_type": "execute_result"
    }
   ],
   "source": [
    "2 **3"
   ]
  },
  {
   "cell_type": "code",
   "execution_count": 49,
   "id": "departmental-institution",
   "metadata": {},
   "outputs": [
    {
     "data": {
      "text/plain": [
       "False"
      ]
     },
     "execution_count": 49,
     "metadata": {},
     "output_type": "execute_result"
    }
   ],
   "source": [
    "# true \n",
    "True\n",
    "#false\n",
    "False"
   ]
  },
  {
   "cell_type": "code",
   "execution_count": 50,
   "id": "identified-static",
   "metadata": {},
   "outputs": [
    {
     "data": {
      "text/plain": [
       "False"
      ]
     },
     "execution_count": 50,
     "metadata": {},
     "output_type": "execute_result"
    }
   ],
   "source": [
    "100 < 0\n"
   ]
  },
  {
   "cell_type": "code",
   "execution_count": 51,
   "id": "animal-tournament",
   "metadata": {},
   "outputs": [
    {
     "data": {
      "text/plain": [
       "True"
      ]
     },
     "execution_count": 51,
     "metadata": {},
     "output_type": "execute_result"
    }
   ],
   "source": [
    "100 > 0"
   ]
  },
  {
   "cell_type": "code",
   "execution_count": 53,
   "id": "approximate-payment",
   "metadata": {},
   "outputs": [
    {
     "data": {
      "text/plain": [
       "True"
      ]
     },
     "execution_count": 53,
     "metadata": {},
     "output_type": "execute_result"
    }
   ],
   "source": [
    "4 == 4"
   ]
  },
  {
   "cell_type": "code",
   "execution_count": 54,
   "id": "upper-living",
   "metadata": {},
   "outputs": [
    {
     "data": {
      "text/plain": [
       "True"
      ]
     },
     "execution_count": 54,
     "metadata": {},
     "output_type": "execute_result"
    }
   ],
   "source": [
    "4 <= 5"
   ]
  },
  {
   "cell_type": "code",
   "execution_count": 55,
   "id": "dirty-blame",
   "metadata": {},
   "outputs": [
    {
     "data": {
      "text/plain": [
       "True"
      ]
     },
     "execution_count": 55,
     "metadata": {},
     "output_type": "execute_result"
    }
   ],
   "source": [
    "3 != 2"
   ]
  },
  {
   "cell_type": "code",
   "execution_count": 58,
   "id": "proper-toner",
   "metadata": {},
   "outputs": [
    {
     "name": "stdout",
     "output_type": "stream",
     "text": [
      "nah.im good\n"
     ]
    }
   ],
   "source": [
    "is_hungry = False\n",
    "\n",
    "if is_hungry:\n",
    "    print('give food')\n",
    "else:\n",
    "    print('nah.im good')"
   ]
  },
  {
   "cell_type": "code",
   "execution_count": 63,
   "id": "distinguished-invite",
   "metadata": {},
   "outputs": [
    {
     "name": "stdout",
     "output_type": "stream",
     "text": [
      "r\n",
      "a\n",
      "n\n",
      "g\n",
      "e\n"
     ]
    }
   ],
   "source": [
    "for i in 'range':\n",
    "    print(i)"
   ]
  },
  {
   "cell_type": "code",
   "execution_count": 64,
   "id": "informal-drive",
   "metadata": {},
   "outputs": [
    {
     "data": {
      "text/plain": [
       "4"
      ]
     },
     "execution_count": 64,
     "metadata": {},
     "output_type": "execute_result"
    }
   ],
   "source": [
    "def myfunction(x):\n",
    "    return x + 2\n",
    "myfunction(2)"
   ]
  },
  {
   "cell_type": "code",
   "execution_count": 68,
   "id": "smaller-relation",
   "metadata": {},
   "outputs": [
    {
     "data": {
      "text/plain": [
       "True"
      ]
     },
     "execution_count": 68,
     "metadata": {},
     "output_type": "execute_result"
    }
   ],
   "source": [
    "def is_even(x):\n",
    "    if x % 2 == 0:\n",
    "        return True\n",
    "    else:\n",
    "        return False\n",
    "    \n",
    "is_even(6)"
   ]
  },
  {
   "cell_type": "code",
   "execution_count": 69,
   "id": "flush-serve",
   "metadata": {},
   "outputs": [
    {
     "data": {
      "text/plain": [
       "True"
      ]
     },
     "execution_count": 69,
     "metadata": {},
     "output_type": "execute_result"
    }
   ],
   "source": [
    "None == None\n",
    "\n",
    "#None=null"
   ]
  },
  {
   "cell_type": "code",
   "execution_count": 72,
   "id": "junior-atmosphere",
   "metadata": {},
   "outputs": [
    {
     "name": "stdout",
     "output_type": "stream",
     "text": [
      "1\n",
      "2\n"
     ]
    }
   ],
   "source": [
    "j = 2\n",
    "\n",
    "def my_Func():\n",
    "    j = 1\n",
    "    print(j)\n",
    "    \n",
    "my_Func()\n",
    "\n",
    "print(j)"
   ]
  },
  {
   "cell_type": "code",
   "execution_count": null,
   "id": "earned-niagara",
   "metadata": {},
   "outputs": [],
   "source": [
    "input('guess a number')"
   ]
  },
  {
   "cell_type": "code",
   "execution_count": null,
   "id": "communist-nomination",
   "metadata": {},
   "outputs": [],
   "source": []
  },
  {
   "cell_type": "code",
   "execution_count": null,
   "id": "flying-bahrain",
   "metadata": {},
   "outputs": [],
   "source": [
    "#02/16"
   ]
  },
  {
   "cell_type": "code",
   "execution_count": null,
   "id": "catholic-produce",
   "metadata": {},
   "outputs": [],
   "source": [
    "#Lists\n",
    "\n",
    "#Lists are represented with brackets []\n",
    "\n",
    "fruits = []\n",
    "\n",
    "fruits = list()"
   ]
  },
  {
   "cell_type": "code",
   "execution_count": 1,
   "id": "celtic-times",
   "metadata": {},
   "outputs": [
    {
     "name": "stdout",
     "output_type": "stream",
     "text": [
      "['apple', 'pear', 'banana']\n"
     ]
    }
   ],
   "source": [
    "fruits = ['apple', 'pear', 'banana']\n",
    "print(fruits)"
   ]
  },
  {
   "cell_type": "code",
   "execution_count": 2,
   "id": "increasing-justice",
   "metadata": {},
   "outputs": [
    {
     "name": "stdout",
     "output_type": "stream",
     "text": [
      "['apple', 'pear', 'banana', 'peach']\n"
     ]
    }
   ],
   "source": [
    "fruits.append('peach')\n",
    "print(fruits)"
   ]
  },
  {
   "cell_type": "code",
   "execution_count": 3,
   "id": "eastern-advertising",
   "metadata": {},
   "outputs": [
    {
     "name": "stdout",
     "output_type": "stream",
     "text": [
      "[True, 100, 1.1, 'hello']\n"
     ]
    }
   ],
   "source": [
    "random = []\n",
    "\n",
    "random.append(True)\n",
    "random.append(100)\n",
    "random.append(1.1)\n",
    "random.append('hello')\n",
    "print(random)"
   ]
  },
  {
   "cell_type": "code",
   "execution_count": 4,
   "id": "defined-integrity",
   "metadata": {},
   "outputs": [
    {
     "data": {
      "text/plain": [
       "1.1"
      ]
     },
     "execution_count": 4,
     "metadata": {},
     "output_type": "execute_result"
    }
   ],
   "source": [
    "random[2]"
   ]
  },
  {
   "cell_type": "code",
   "execution_count": 5,
   "id": "domestic-fishing",
   "metadata": {},
   "outputs": [
    {
     "data": {
      "text/plain": [
       "'hello'"
      ]
     },
     "execution_count": 5,
     "metadata": {},
     "output_type": "execute_result"
    }
   ],
   "source": [
    "random[3]"
   ]
  },
  {
   "cell_type": "code",
   "execution_count": 10,
   "id": "pacific-audio",
   "metadata": {},
   "outputs": [
    {
     "name": "stdout",
     "output_type": "stream",
     "text": [
      "[True]\n"
     ]
    }
   ],
   "source": [
    "print(random)"
   ]
  },
  {
   "cell_type": "code",
   "execution_count": 11,
   "id": "greater-virginia",
   "metadata": {},
   "outputs": [
    {
     "name": "stdout",
     "output_type": "stream",
     "text": [
      "['green', 'blue', 'purple', 'red', 'orange', 'yellow']\n"
     ]
    }
   ],
   "source": [
    "cool_colors = ['green', 'blue', 'purple']\n",
    "warm_colors = ['red', 'orange', 'yellow']\n",
    "all_colors = cool_colors + warm_colors\n",
    "print(all_colors)"
   ]
  },
  {
   "cell_type": "code",
   "execution_count": 13,
   "id": "common-custody",
   "metadata": {},
   "outputs": [
    {
     "data": {
      "text/plain": [
       "True"
      ]
     },
     "execution_count": 13,
     "metadata": {},
     "output_type": "execute_result"
    }
   ],
   "source": [
    "'purple' in cool_colors"
   ]
  },
  {
   "cell_type": "code",
   "execution_count": 14,
   "id": "excited-statement",
   "metadata": {},
   "outputs": [
    {
     "data": {
      "text/plain": [
       "6"
      ]
     },
     "execution_count": 14,
     "metadata": {},
     "output_type": "execute_result"
    }
   ],
   "source": [
    "len(all_colors)"
   ]
  },
  {
   "cell_type": "code",
   "execution_count": null,
   "id": "liquid-zambia",
   "metadata": {},
   "outputs": [],
   "source": []
  }
 ],
 "metadata": {
  "kernelspec": {
   "display_name": "Python 3",
   "language": "python",
   "name": "python3"
  },
  "language_info": {
   "codemirror_mode": {
    "name": "ipython",
    "version": 3
   },
   "file_extension": ".py",
   "mimetype": "text/x-python",
   "name": "python",
   "nbconvert_exporter": "python",
   "pygments_lexer": "ipython3",
   "version": "3.8.7"
  }
 },
 "nbformat": 4,
 "nbformat_minor": 5
}
