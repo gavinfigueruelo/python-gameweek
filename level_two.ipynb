{
 "cells": [
  {
   "cell_type": "code",
   "execution_count": 1,
   "id": "secondary-alberta",
   "metadata": {},
   "outputs": [
    {
     "name": "stdout",
     "output_type": "stream",
     "text": [
      "Enter a number between 1 - 10: 9\n"
     ]
    }
   ],
   "source": [
    "import random\n",
    "user_num = int(input('Enter a number between 1 - 10: '))\n",
    "computer_guess = random.randint(1,10)\n",
    "turns = 0\n",
    "\n",
    "\n"
   ]
  },
  {
   "cell_type": "code",
   "execution_count": 8,
   "id": "covered-valentine",
   "metadata": {},
   "outputs": [
    {
     "name": "stdout",
     "output_type": "stream",
     "text": [
      "Enter a number between 1 - 10: 4\n",
      "10\n",
      "5\n",
      "5\n",
      "8\n",
      "8\n",
      "10\n",
      "7\n",
      "9\n",
      "5\n",
      "1\n",
      "10\n",
      "9\n",
      "10\n",
      "3\n",
      "It took 17 turns\n"
     ]
    }
   ],
   "source": [
    "import random\n",
    "user_num = int(input('Enter a number between 1 - 10: '))\n",
    "computer_guess = random.randint(1,10)\n",
    "turns = 3\n",
    "\n",
    "while user_num != computer_guess:\n",
    "    turns += 1\n",
    "    print(computer_guess)\n",
    "    computer_guess = random.randint(1,10)\n",
    "    if user_num == computer_guess:\n",
    "        print('It took', turns, 'turns')\n",
    "        break\n",
    "        "
   ]
  },
  {
   "cell_type": "code",
   "execution_count": 13,
   "id": "promising-reply",
   "metadata": {},
   "outputs": [
    {
     "name": "stdout",
     "output_type": "stream",
     "text": [
      "Enter a number between 1 - 10: 5\n",
      "2\n",
      "8\n",
      "8\n",
      "4\n",
      "10\n",
      "8\n",
      "8\n",
      "8\n",
      "10\n",
      "8\n",
      "3\n",
      "3\n",
      "2\n",
      "3\n",
      "It took 3 turns\n"
     ]
    }
   ],
   "source": [
    "import random\n",
    "user_num = int(input('Enter a number between 1 - 10: '))\n",
    "computer_guess = random.randint(1,10)\n",
    "turns = 0\n",
    "\n",
    "while user_num != computer_guess:\n",
    "    turns += 1\n",
    "    print(computer_guess)\n",
    "    computer_guess = random.randint(1,10)\n"
   ]
  },
  {
   "cell_type": "code",
   "execution_count": 15,
   "id": "productive-miller",
   "metadata": {},
   "outputs": [],
   "source": [
    "\n",
    "import random \n",
    "def computer_guess():\n",
    "    num = int(input(\"Pick a number 1-10\"))\n",
    "    num = int(num)\n",
    "    computer_guess = []\n",
    "    for i in range(3):\n",
    "        guess = random.randrange(10)\n",
    "        computer_guess.append(guess)\n",
    "        \n",
    "       "
   ]
  },
  {
   "cell_type": "code",
   "execution_count": null,
   "id": "awful-campbell",
   "metadata": {},
   "outputs": [],
   "source": []
  }
 ],
 "metadata": {
  "kernelspec": {
   "display_name": "Python 3",
   "language": "python",
   "name": "python3"
  },
  "language_info": {
   "codemirror_mode": {
    "name": "ipython",
    "version": 3
   },
   "file_extension": ".py",
   "mimetype": "text/x-python",
   "name": "python",
   "nbconvert_exporter": "python",
   "pygments_lexer": "ipython3",
   "version": "3.8.7"
  }
 },
 "nbformat": 4,
 "nbformat_minor": 5
}
