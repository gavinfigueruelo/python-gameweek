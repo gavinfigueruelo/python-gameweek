{
 "cells": [
  {
   "cell_type": "code",
   "execution_count": 1,
   "id": "gorgeous-spell",
   "metadata": {},
   "outputs": [
    {
     "name": "stdout",
     "output_type": "stream",
     "text": [
      "Enter a number between 1 - 100: 77\n",
      "50\n",
      "75\n",
      "88\n",
      "82\n",
      "79\n",
      "77\n",
      "The computer guessed in 6 tries.\n"
     ]
    }
   ],
   "source": [
    "import random\n",
    "\n",
    "min = 0\n",
    "max = 100\n",
    "turns = 0\n",
    "user_num = int(input('Enter a number between 1 - 100: '))\n",
    "computer_guess = (min + max)// 2\n",
    "\n",
    "while user_num != computer_guess:\n",
    "    turns += 1\n",
    "    computer_guess = (min + max)// 2\n",
    "    print(computer_guess)\n",
    "\n",
    "    if computer_guess > user_num:\n",
    "        max = computer_guess\n",
    "\n",
    "    elif computer_guess < user_num:\n",
    "        min = computer_guess + 1\n",
    "\n",
    "print('The computer guessed in', turns, 'tries.')\n"
   ]
  },
  {
   "cell_type": "code",
   "execution_count": 7,
   "id": "stable-lyric",
   "metadata": {},
   "outputs": [
    {
     "name": "stdout",
     "output_type": "stream",
     "text": [
      "Enter a number between 1 - 100: 34\n",
      "the comp guessed: 50\n",
      "the comp guessed: 25\n",
      "the comp guessed: 37\n",
      "the comp guessed: 31\n",
      "the comp guessed: 34\n",
      "comp guessed your number in 5 tries\n"
     ]
    }
   ],
   "source": [
    "def play():\n",
    "    random_number = int(input('Enter a number between 1 - 100: '))\n",
    "    counter = 0\n",
    "    \n",
    "    low_num = 1\n",
    "    high_num = 100\n",
    "    \n",
    "    while True:\n",
    "        comp_guess = (low_num + high_num) // 2\n",
    "        print('the comp guessed:' , comp_guess)\n",
    "        \n",
    "        counter +=1\n",
    "        \n",
    "        if comp_guess > random_number:\n",
    "            high_num = comp_guess\n",
    "        elif comp_guess < random_number:\n",
    "            low_num = comp_guess\n",
    "        elif comp_guess == random_number:\n",
    "            print('comp guessed your number in {} tries'.format(counter))\n",
    "            break\n",
    "            \n",
    "play()"
   ]
  },
  {
   "cell_type": "code",
   "execution_count": null,
   "id": "international-newspaper",
   "metadata": {},
   "outputs": [],
   "source": []
  }
 ],
 "metadata": {
  "kernelspec": {
   "display_name": "Python 3",
   "language": "python",
   "name": "python3"
  },
  "language_info": {
   "codemirror_mode": {
    "name": "ipython",
    "version": 3
   },
   "file_extension": ".py",
   "mimetype": "text/x-python",
   "name": "python",
   "nbconvert_exporter": "python",
   "pygments_lexer": "ipython3",
   "version": "3.8.7"
  }
 },
 "nbformat": 4,
 "nbformat_minor": 5
}
