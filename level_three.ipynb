{
 "cells": [
  {
   "cell_type": "code",
   "execution_count": null,
   "id": "confidential-halifax",
   "metadata": {},
   "outputs": [],
   "source": [
    "import random\n",
    "\n",
    "min = 0\n",
    "max = 100\n",
    "turns = 0\n",
    "user_num = int(input('Enter a number between 1 - 100: '))\n",
    "computer_guess = (min + max)// 2\n",
    "\n",
    "while user_num != computer_guess:\n",
    "    turns += 1\n",
    "    computer_guess = (min + max)// 2\n",
    "    print(computer_guess)\n",
    "\n",
    "    if computer_guess > user_num:\n",
    "        max = computer_guess\n",
    "\n",
    "    elif computer_guess < user_num:\n",
    "        min = computer_guess + 1\n",
    "\n",
    "print('The computer guessed in', turns, 'tries.')\n"
   ]
  },
  {
   "cell_type": "code",
   "execution_count": null,
   "id": "floating-night",
   "metadata": {},
   "outputs": [],
   "source": []
  }
 ],
 "metadata": {
  "kernelspec": {
   "display_name": "Python 3",
   "language": "python",
   "name": "python3"
  }
 },
 "nbformat": 4,
 "nbformat_minor": 5
}
